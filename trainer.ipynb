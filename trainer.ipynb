{
 "cells": [
  {
   "cell_type": "code",
   "execution_count": null,
   "metadata": {},
   "outputs": [],
   "source": [
    "import glob\n",
    "import random\n",
    "import numpy as np\n",
    "from written_test_automation import pre, loc, result, nets, config\n",
    "import matplotlib.pyplot as plt\n",
    "from sklearn.model_selection import train_test_split\n",
    "\n",
    "def s(im):\n",
    "    plt.imshow(im,cmap=\"gray\")\n",
    "    plt.show()"
   ]
  },
  {
   "cell_type": "markdown",
   "metadata": {},
   "source": [
    "# Net trainer"
   ]
  },
  {
   "cell_type": "code",
   "execution_count": null,
   "metadata": {},
   "outputs": [],
   "source": [
    "weight_path = \"./written_test_automation/answer_weights.pickle\"\n",
    "append_path = \"./answer_images/\"\n",
    "folders_label =[(append_path + \"0/*\",[1,0,0,0,0,0]),\n",
    "                (append_path + \"1/*\",[0,1,0,0,0,0]),\n",
    "                (append_path + \"2/*\",[0,0,1,0,0,0]),\n",
    "                (append_path + \"3/*\",[0,0,0,1,0,0]),\n",
    "                (append_path + \"4/*\",[0,0,0,0,1,0]),\n",
    "                (append_path + \"5/*\",[0,0,0,0,0,1])]\n"
   ]
  },
  {
   "cell_type": "code",
   "execution_count": null,
   "metadata": {},
   "outputs": [],
   "source": [
    "paths = []\n",
    "labels = []\n",
    "for path,label in folders_label:\n",
    "    new_paths = glob.glob(path)\n",
    "    labels = labels + ([label] * len(new_paths))\n",
    "    paths = paths + new_paths\n",
    "paths,p, labels,l = train_test_split(paths, labels, test_size=0.01)\n",
    "print(p)\n",
    "print(l)"
   ]
  },
  {
   "cell_type": "code",
   "execution_count": null,
   "metadata": {},
   "outputs": [],
   "source": [
    "x = []\n",
    "for path in paths:\n",
    "    x.append([pre.imread(path=path)])\n",
    "    \n",
    "x = np.array(x, dtype = np.float64 ) / 255\n",
    "y = np.array(labels, dtype = np.float64)"
   ]
  },
  {
   "cell_type": "code",
   "execution_count": null,
   "metadata": {},
   "outputs": [],
   "source": [
    "print(x.shape)\n",
    "print(x.min())\n",
    "print(x.max())"
   ]
  },
  {
   "cell_type": "code",
   "execution_count": null,
   "metadata": {},
   "outputs": [],
   "source": [
    "net = nets.answer_model()\n",
    "net.load_weights(weight_path)"
   ]
  },
  {
   "cell_type": "code",
   "execution_count": null,
   "metadata": {},
   "outputs": [],
   "source": [
    "max_size = int(x.shape[0])\n",
    "batch_size = 50\n",
    "epochs = 25\n",
    "\n",
    "for _ in range(epochs):\n",
    "    print(_)\n",
    "    start = 0\n",
    "    fin = start + batch_size\n",
    "    while True:\n",
    "        if (start > max_size) or (fin > max_size):\n",
    "            break\n",
    "        net.numpy_train(x[start:fin],y[start:fin], epochs=1)\n",
    "        start += batch_size\n",
    "        fin += batch_size"
   ]
  },
  {
   "cell_type": "code",
   "execution_count": null,
   "metadata": {},
   "outputs": [],
   "source": [
    "net.dropout = nets.nn.Dropout(0.0)\n",
    "net.numpy_train(x, y, epochs=3)"
   ]
  },
  {
   "cell_type": "code",
   "execution_count": null,
   "metadata": {},
   "outputs": [],
   "source": [
    "net.save_weights(weight_path)"
   ]
  },
  {
   "cell_type": "code",
   "execution_count": null,
   "metadata": {},
   "outputs": [],
   "source": []
  },
  {
   "cell_type": "markdown",
   "metadata": {},
   "source": [
    "# Config finder"
   ]
  },
  {
   "cell_type": "code",
   "execution_count": null,
   "metadata": {},
   "outputs": [],
   "source": [
    "\n",
    "def pick(ims, to_print):\n",
    "    '''\n",
    "        threshold_kernel, blur_kernel, blob_size\n",
    "    '''\n",
    "    th_ker = random.uniform(0.00001,0.1)\n",
    "    blur_kernel = random.uniform(0.00001,0.1)\n",
    "    blob_size = 0.037#random.uniform(0.00001,0.1)\n",
    "    C = 7 #random.randint(2,7)\n",
    "    \n",
    "    config.threshold_kernel_percent = th_ker\n",
    "    config.median_blur_kernel_percent = blur_kernel\n",
    "    config.blob_min_size_percent = blob_size\n",
    "    config.threshold_C = C\n",
    "    print(to_print ,th_ker, blur_kernel, blob_size, C)\n",
    "\n",
    "\n",
    "    try:\n",
    "        for im in ims:\n",
    "            result.predict(im)\n",
    "        print(\"yes\")\n",
    "        return [th_ker,blur_kernel,blob_size, C]\n",
    "    except:\n",
    "        return None\n",
    "def dir_pick(path, loops = 100):\n",
    "    paths = glob.glob(path)\n",
    "    ims = []\n",
    "    for i in paths:\n",
    "        print(i)\n",
    "        ims.append(pre.imread(i))\n",
    "\n",
    "        \n",
    "    configs = []\n",
    "    for i in range(loops):\n",
    "        picked_config = pick(ims, str(i))\n",
    "        \n",
    "        if picked_config == None:\n",
    "            pass\n",
    "        else:\n",
    "            configs = configs + [picked_config]\n",
    "            \n",
    "    return configs"
   ]
  },
  {
   "cell_type": "code",
   "execution_count": null,
   "metadata": {},
   "outputs": [],
   "source": [
    "con = dir_pick(\"./im/*\", 100)"
   ]
  },
  {
   "cell_type": "code",
   "execution_count": null,
   "metadata": {},
   "outputs": [],
   "source": [
    "print(np.mean(con, axis=0))\n",
    "print(np.median(con, axis=0))"
   ]
  },
  {
   "cell_type": "code",
   "execution_count": null,
   "metadata": {},
   "outputs": [],
   "source": [
    "con"
   ]
  },
  {
   "cell_type": "code",
   "execution_count": null,
   "metadata": {},
   "outputs": [],
   "source": []
  }
 ],
 "metadata": {
  "kernelspec": {
   "display_name": "Python 3",
   "language": "python",
   "name": "python3"
  },
  "language_info": {
   "codemirror_mode": {
    "name": "ipython",
    "version": 3
   },
   "file_extension": ".py",
   "mimetype": "text/x-python",
   "name": "python",
   "nbconvert_exporter": "python",
   "pygments_lexer": "ipython3",
   "version": "3.6.3"
  }
 },
 "nbformat": 4,
 "nbformat_minor": 2
}
